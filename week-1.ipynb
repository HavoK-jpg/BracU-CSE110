{
  "cells": [
    {
      "cell_type": "code",
      "execution_count": null,
      "metadata": {
        "colab": {
          "base_uri": "https://localhost:8080/"
        },
        "id": "jbq69aTu6qtx",
        "outputId": "39e8adc9-d432-4d22-818b-be99469c42b3"
      },
      "outputs": [
        {
          "name": "stdout",
          "output_type": "stream",
          "text": [
            "hello world\n"
          ]
        }
      ],
      "source": [
        "#https://drive.google.com/drive/folders/1rc9BKX--iZRuhd4s4xoYlzynL9nBemWV?fbclid=IwAR3d9ml404AhbQVbUtv280gzFbSd0cjra2e3UUywdrhpiyvRznHkxQH7bNo ( the link of the all tasks questions )\n",
        "#https://drive.google.com/drive/u/0/mobile/folders/1KDLc5ZTmII32hPmZNXyhdL7ydUo0zreu ( the link of all quiz questions )\n",
        "\n",
        "#TASK-01\n",
        "\n",
        "#print(\"hello world\")"
      ]
    },
    {
      "cell_type": "code",
      "execution_count": 2,
      "metadata": {
        "colab": {
          "base_uri": "https://localhost:8080/"
        },
        "id": "azJgYm2H7Vbb",
        "outputId": "2f104ff0-e994-4482-c193-cd772c65b44a"
      },
      "outputs": [
        {
          "name": "stdout",
          "output_type": "stream",
          "text": [
            "100\n"
          ]
        }
      ],
      "source": [
        "#TASK-02\n",
        "\n",
        "print(56+44)\n",
        "\n",
        "# when printing variables do not use any kind of \"\" or '' otherwise it will print the variable's name only rather than printing the variable's value"
      ]
    },
    {
      "cell_type": "code",
      "execution_count": null,
      "metadata": {
        "colab": {
          "base_uri": "https://localhost:8080/"
        },
        "id": "LAHPw00ucAbf",
        "outputId": "92a92dee-14be-46bd-b9a4-6db7596aa989"
      },
      "outputs": [
        {
          "name": "stdout",
          "output_type": "stream",
          "text": [
            "Fall\n",
            "2022\n"
          ]
        }
      ],
      "source": [
        "#TASK-03\n",
        "\n",
        "season=\"Fall\"\n",
        "year=2022\n",
        "print(season)\n",
        "print(year)\n",
        "\n",
        "# if the variable type is integer/float then \"\" isn't required but it is required when the variable is string"
      ]
    },
    {
      "cell_type": "code",
      "execution_count": null,
      "metadata": {
        "colab": {
          "base_uri": "https://localhost:8080/"
        },
        "id": "VCyWqnE2dqbC",
        "outputId": "fefac3cf-618d-457f-9042-e4881ea54df5"
      },
      "outputs": [
        {
          "name": "stdout",
          "output_type": "stream",
          "text": [
            "enter your name : sifat\n",
            "Your name is  sifat\n"
          ]
        }
      ],
      "source": [
        "#TASK-04\n",
        "\n",
        "Name=input(\"enter your name : \")\n",
        "print(\"Your name is \" , Name)\n",
        "\n",
        "\n",
        "#if you want to print out a variable along with the print sentence use (\"    \" , variable)"
      ]
    },
    {
      "cell_type": "code",
      "execution_count": null,
      "metadata": {
        "colab": {
          "base_uri": "https://localhost:8080/"
        },
        "id": "RBAWHG4EfsFT",
        "outputId": "8ca935b6-d6b4-4bfb-ef9b-34b34a5d6be6"
      },
      "outputs": [
        {
          "name": "stdout",
          "output_type": "stream",
          "text": [
            "please enter a number : 10\n",
            "please enter a number : 2\n",
            "10 ^ 2 : 100\n"
          ]
        }
      ],
      "source": [
        "#TASK-05\n",
        "\n",
        "M=int(input(\"please enter a number : \"))\n",
        "N=int(input(\"please enter a number : \"))\n",
        "result=M**N\n",
        "print(f\"{M} ^ {N} : {result}\")\n",
        "\n",
        "#f-string is used to make the variables more readable and it should be used as  f\"{curly braces V1} {curly braces V2}\" way\n"
      ]
    },
    {
      "cell_type": "code",
      "execution_count": 4,
      "metadata": {
        "id": "RlnVVg0yh6EG"
      },
      "outputs": [
        {
          "name": "stdout",
          "output_type": "stream",
          "text": [
            "4356\n"
          ]
        }
      ],
      "source": [
        "#TASK-06\n",
        "\n",
        "# when written that \" reads the x amount it actually means of an input\"\n",
        "X=int(input(\"total weight of the shipment : \"))\n",
        "ExtraWeight=(X//4)*4\n",
        "print(ExtraWeight)\n",
        "\n",
        "#why x/4*4 was used here?\n",
        "\n",
        "\n"
      ]
    },
    {
      "cell_type": "code",
      "execution_count": null,
      "metadata": {
        "colab": {
          "base_uri": "https://localhost:8080/"
        },
        "id": "BGWx6sdQ-IjR",
        "outputId": "4a1cb1d8-2ed4-40f1-d33b-cb388646fc90"
      },
      "outputs": [
        {
          "name": "stdout",
          "output_type": "stream",
          "text": [
            "please enter a value : 2\n",
            "please enter a value : 6\n",
            "please enter a value : 8\n",
            "please enter a value : 1.3\n",
            "267\n"
          ]
        }
      ],
      "source": [
        "#TASK-07\n",
        "\n",
        "A=int(input(\"please enter a value : \"))\n",
        "B=int(input(\"please enter a value : \"))\n",
        "C=int(input(\"please enter a value : \"))\n",
        "D=float(input(\"please enter a value : \"))\n",
        "X=(A**C + B*A - D/3)\n",
        "print(int(X))"
      ]
    },
    {
      "cell_type": "code",
      "execution_count": null,
      "metadata": {
        "colab": {
          "base_uri": "https://localhost:8080/"
        },
        "id": "xM7NEGEP_n1s",
        "outputId": "d24a9e0c-80d1-4804-fbc7-8f6cafe0d030"
      },
      "outputs": [
        {
          "name": "stdout",
          "output_type": "stream",
          "text": [
            "10\n",
            " each friend will receive 3 chocolates and the number of remaining chocolates is 1\n"
          ]
        }
      ],
      "source": [
        "#TASK-08\n",
        "\n",
        "chocolates=int(input())\n",
        "X=chocolates//3\n",
        "Y=chocolates%3\n",
        "print(f\" each friend will receive {X} chocolates and the number of remaining chocolates is {Y}\")\n",
        "\n",
        "#but how f works ?"
      ]
    },
    {
      "cell_type": "code",
      "execution_count": null,
      "metadata": {},
      "outputs": [],
      "source": [
        "#TASK-09\n",
        "M=input(\"please enter something : \")\n",
        "N=input(\"Please enter something : \")\n",
        "print(N + M)"
      ]
    },
    {
      "cell_type": "code",
      "execution_count": null,
      "metadata": {},
      "outputs": [],
      "source": [
        "#TASK-10\n",
        "line=input(\"please enter a value : \")\n",
        "print(line[0])"
      ]
    }
  ],
  "metadata": {
    "colab": {
      "provenance": []
    },
    "kernelspec": {
      "display_name": "Python 3",
      "name": "python3"
    },
    "language_info": {
      "codemirror_mode": {
        "name": "ipython",
        "version": 3
      },
      "file_extension": ".py",
      "mimetype": "text/x-python",
      "name": "python",
      "nbconvert_exporter": "python",
      "pygments_lexer": "ipython3",
      "version": "3.11.1"
    }
  },
  "nbformat": 4,
  "nbformat_minor": 0
}
